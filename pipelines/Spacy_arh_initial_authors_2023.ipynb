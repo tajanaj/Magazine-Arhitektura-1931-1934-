{
 "cells": [
  {
   "cell_type": "code",
   "execution_count": 35,
   "id": "eedaf3a9",
   "metadata": {},
   "outputs": [],
   "source": [
    "from collections import Counter\n",
    "import spacy\n",
    "import textacy"
   ]
  },
  {
   "cell_type": "code",
   "execution_count": 36,
   "id": "866b8435",
   "metadata": {},
   "outputs": [],
   "source": [
    "nlp = spacy.load(\"hr_core_news_lg\")"
   ]
  },
  {
   "cell_type": "code",
   "execution_count": 37,
   "id": "9cd37e04",
   "metadata": {},
   "outputs": [],
   "source": [
    "#useless = ['ovaj', 'drugi', 'mnogo', 'taj', 'svaki', 'svoj', 'jedan', 'prema', 'koji', 'dva', 'prvi', 'sav', 'među', 'imati','moći']"
   ]
  },
  {
   "cell_type": "code",
   "execution_count": 47,
   "id": "ac195607",
   "metadata": {},
   "outputs": [],
   "source": [
    "import os\n",
    "directory = \"autori\"\n",
    "texts = []\n",
    "\n",
    "for filename in os.listdir(directory):\n",
    "    if filename.endswith(\".txt\"):\n",
    "        f = os.path.join(directory, filename)\n",
    "        texts.append(f)"
   ]
  },
  {
   "cell_type": "code",
   "execution_count": 48,
   "id": "2ee7b5b9",
   "metadata": {},
   "outputs": [],
   "source": [
    "text_common = []\n",
    "for text in texts:\n",
    "    with open (text, mode='r', encoding='utf-8') as f:\n",
    "        txt = f.read().replace(\"\\n\", \" \")\n",
    "    \n",
    "    doc = nlp(txt)\n",
    "    \n",
    "    lemma_words = []\n",
    "    for token in doc:\n",
    "        if not token.is_stop and not token.is_punct and not token.is_space: \n",
    "            lemma_words.append(token.lemma_)\n",
    "        \n",
    "    #print(lemma_words)        \n",
    "    word_freq = Counter(lemma_words)\n",
    "    common_words = word_freq.most_common(15)\n",
    "    text_common.append(common_words)"
   ]
  },
  {
   "cell_type": "code",
   "execution_count": 49,
   "id": "0526cfd2",
   "metadata": {},
   "outputs": [],
   "source": [
    "data = list(zip(texts, text_common))"
   ]
  },
  {
   "cell_type": "code",
   "execution_count": 50,
   "id": "787f4acd",
   "metadata": {},
   "outputs": [
    {
     "data": {
      "text/plain": [
       "[('autori\\\\Dragotin Fatur.txt',\n",
       "  [('moći', 83),\n",
       "   ('morati', 62),\n",
       "   ('zgrada', 58),\n",
       "   ('prostor', 52),\n",
       "   ('sav', 50),\n",
       "   ('stan', 49),\n",
       "   ('arhitekt', 49),\n",
       "   ('svaki', 42),\n",
       "   ('velik', 39),\n",
       "   ('oblik', 38),\n",
       "   ('trebati', 38),\n",
       "   ('potreban', 37),\n",
       "   ('soba', 36),\n",
       "   ('zahtjev', 35),\n",
       "   ('naručitelj', 33)]),\n",
       " ('autori\\\\Marko Vidaković.txt',\n",
       "  [('grad', 168),\n",
       "   ('arhitektura', 143),\n",
       "   ('ovaj', 126),\n",
       "   ('čovjek', 125),\n",
       "   ('škola', 115),\n",
       "   ('moći', 95),\n",
       "   ('velik', 93),\n",
       "   ('imati', 89),\n",
       "   ('taj', 88),\n",
       "   ('morati', 83),\n",
       "   ('život', 80),\n",
       "   ('mnogo', 75),\n",
       "   ('trebati', 72),\n",
       "   ('nov', 71),\n",
       "   ('drugi', 70)])]"
      ]
     },
     "execution_count": 50,
     "metadata": {},
     "output_type": "execute_result"
    }
   ],
   "source": [
    "data"
   ]
  },
  {
   "cell_type": "code",
   "execution_count": 45,
   "id": "77c1b649",
   "metadata": {},
   "outputs": [],
   "source": [
    "   \n",
    "with open('autori.txt', 'w', encoding='utf-8') as fd:\n",
    "    for d in data:\n",
    "        fd.write(f\"{d}\\n\")"
   ]
  }
 ],
 "metadata": {
  "kernelspec": {
   "display_name": "Python 3 (ipykernel)",
   "language": "python",
   "name": "python3"
  },
  "language_info": {
   "codemirror_mode": {
    "name": "ipython",
    "version": 3
   },
   "file_extension": ".py",
   "mimetype": "text/x-python",
   "name": "python",
   "nbconvert_exporter": "python",
   "pygments_lexer": "ipython3",
   "version": "3.10.10"
  }
 },
 "nbformat": 4,
 "nbformat_minor": 5
}
