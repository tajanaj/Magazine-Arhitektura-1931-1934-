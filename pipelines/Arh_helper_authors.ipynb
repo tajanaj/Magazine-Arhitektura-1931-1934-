{
 "cells": [
  {
   "cell_type": "code",
   "execution_count": 29,
   "id": "2dfb2bd3",
   "metadata": {
    "scrolled": true
   },
   "outputs": [
    {
     "name": "stdout",
     "output_type": "stream",
     "text": [
      "Dragotin Fatur\\Arhitektura-1932-5-4-Dragotin Fatur.txt\n",
      "Dragotin Fatur\\Arhitektura-1932-6-2-Dragotin Fatur.txt\n",
      "Dragotin Fatur\\Arhitektura-1932-6-3-Dragotin Fatur.txt\n",
      "Dragotin Fatur\\Arhitektura-1932-6-4-Dragotin Fatur.txt\n",
      "Dragotin Fatur\\Arhitektura-1932-7-2-Dragotin Fatur.txt\n",
      "Dragotin Fatur\\Arhitektura-1932-7-4-Dragotin Fatur.txt\n",
      "Dragotin Fatur\\Arhitektura-1932-8-3-Dragotin Fatur.txt\n",
      "Dragotin Fatur\\Arhitektura-1932-9-10-2-Dragotin Fatur.txt\n",
      "Dragotin Fatur\\Arhitektura-1932-9-10-4-Dragotin Fatur.txt\n",
      "Dragotin Fatur\\Arhitektura-1933-1-2_2_Dragotin Fatur.txt\n",
      "Dragotin Fatur\\Arhitektura-1933-11_2_Dragotin Fatur.txt\n",
      "Dragotin Fatur\\Arhitektura-1933-3-4_4_Dragotin Fatur.txt\n",
      "Dragotin Fatur\\Arhitektura-1933-3-4_5_Dragotin Fatur.txt\n",
      "Dragotin Fatur\\Arhitektura-1933-5-6_1_Dragotin Fatur.txt\n",
      "Dragotin Fatur\\Arhitektura-1933-7-8_2_Dragotin Fatur.txt\n",
      "Dragotin Fatur\\Arhitektura-1934-1_4-Dragotin Fatur .txt\n",
      "Dragotin Fatur\\Arhitektura-1934-3_1-Dragotin Fatur.txt\n",
      "Dragotin Fatur\\Arhitektura-1934-3_3-Dragotin Fatur.txt\n",
      "Dragotin Fatur\\Arhitektura-1934-4_2-Dragotin Fatur.txt\n"
     ]
    }
   ],
   "source": [
    "import os\n",
    "directory = \"Dragotin Fatur\"\n",
    "texts = []\n",
    "\n",
    "for filename in os.listdir(directory):\n",
    "    if filename.endswith(\".txt\"):\n",
    "        f = os.path.join(directory, filename)\n",
    "        texts.append(f)\n",
    "        \n",
    "for text in texts:\n",
    "    print(text)"
   ]
  },
  {
   "cell_type": "code",
   "execution_count": 30,
   "id": "a8e1bf52",
   "metadata": {},
   "outputs": [
    {
     "name": "stdout",
     "output_type": "stream",
     "text": [
      "19\n"
     ]
    }
   ],
   "source": [
    "# Python program to\n",
    "# demonstrate merging\n",
    "# of two files\n",
    "  \n",
    "data = []\n",
    "  \n",
    "for text in texts:\n",
    "    with open (text, mode='r', encoding='utf-8') as f:\n",
    "        data.append(f.read().replace(\"\\n\", \" \"))\n",
    "\n",
    "  \n",
    "\n",
    "print(len(data))\n",
    "\n",
    "dat = \"\"\n",
    "\n",
    "for d in data:\n",
    "    dat += \"\\n\"\n",
    "    dat += d\n",
    "\n",
    "#data += \"\\n\"\n",
    "#data += data2\n",
    "  \n",
    "with open ('rezultati/Dragotin Fatur.txt', 'w', encoding='utf-8') as fp:\n",
    "    fp.write(dat)"
   ]
  }
 ],
 "metadata": {
  "kernelspec": {
   "display_name": "Python 3 (ipykernel)",
   "language": "python",
   "name": "python3"
  },
  "language_info": {
   "codemirror_mode": {
    "name": "ipython",
    "version": 3
   },
   "file_extension": ".py",
   "mimetype": "text/x-python",
   "name": "python",
   "nbconvert_exporter": "python",
   "pygments_lexer": "ipython3",
   "version": "3.10.10"
  }
 },
 "nbformat": 4,
 "nbformat_minor": 5
}
